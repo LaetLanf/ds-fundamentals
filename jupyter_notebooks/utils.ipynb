{
 "cells": [
  {
   "cell_type": "code",
   "execution_count": null,
   "id": "6e018e3d",
   "metadata": {},
   "outputs": [],
   "source": [
    "df.info(memory_usage='deep')"
   ]
  },
  {
   "cell_type": "code",
   "execution_count": null,
   "id": "6f5114dc",
   "metadata": {},
   "outputs": [],
   "source": [
    "%config InteractiveShell.cache_size = 0"
   ]
  },
  {
   "cell_type": "code",
   "execution_count": null,
   "id": "db86c48b",
   "metadata": {},
   "outputs": [],
   "source": [
    "import sys\n",
    "\n",
    "def get_var_size():\n",
    "    var_sizes = [(var_name, sys.getsizeof(var_val)) for var_name, var_val in globals().items()]\n",
    "    sorted_vars = sorted(var_sizes, key=lambda x: x[1], reverse=True)\n",
    "    \n",
    "    print(\"{:<30} {:<15}\".format(\"Variable Name\",\"Size (bytes)\"))\n",
    "    print(\"=\"*45)\n",
    "    for var_name, size in sorted_vars:\n",
    "    print(\"{:<30} {:<15}\".format(var_name, size))"
   ]
  },
  {
   "cell_type": "markdown",
   "id": "a2989fee",
   "metadata": {},
   "source": [
    "## Table and parquet format"
   ]
  },
  {
   "cell_type": "code",
   "execution_count": null,
   "id": "f9d705f3",
   "metadata": {},
   "outputs": [],
   "source": [
    "import pandas as pd\n",
    "import pyarrow as pa\n",
    "import pyarrow.parquet as pq"
   ]
  },
  {
   "cell_type": "markdown",
   "id": "2f02ca94",
   "metadata": {},
   "source": [
    "###### Write a df into a parquet file, using the table format and group logic"
   ]
  },
  {
   "cell_type": "code",
   "execution_count": null,
   "id": "25c18361",
   "metadata": {},
   "outputs": [],
   "source": [
    "table = pa.Table.from_pandas(df)\n",
    "row_group_size = 2048\n",
    "\n",
    "with pq.ParquetWriter('file_path.parquet', table.schema) as writer:\n",
    "    start_idx = 0\n",
    "    while start_idx < len(df):\n",
    "        end_idx = start_idx + row_group_size\n",
    "        writer.write_table(table.slice(start_idx, row_group_size))\n",
    "        start_idx = end_idx"
   ]
  },
  {
   "cell_type": "markdown",
   "id": "87ae9860",
   "metadata": {},
   "source": [
    "###### Parquet file and table attributes"
   ]
  },
  {
   "cell_type": "code",
   "execution_count": null,
   "id": "74bdc960",
   "metadata": {
    "scrolled": true
   },
   "outputs": [],
   "source": [
    "parquet_file = pq.ParquetFile('file_path.parquet') # this a parquet_file\n",
    "parquet_file.schema\n",
    "parquet_file.metadata.num_rows\n",
    "parquet_file.metadata.num_columns\n",
    "parquet_file.metadata.num_row_groups\n",
    "\n",
    "parquet_file.read_row_group(0)                           # This is a table\n",
    "parquet_file.read_row_group(0).schema                        # With dtypes\n",
    "parquet_file.read_row_group(0).schema.names                  # Columns names\n",
    "parquet_file.read_row_group(0).shape\n",
    "parquet_file.read_row_group(0).num_rows\n",
    "parquet_file.read_row_group(0).num_columns\n",
    "parquet_file.read_row_group(0).slice(offset=10, length=20)   # Equivalent de iloc\n",
    "parquet_file.read_row_group(0).to_pandas()"
   ]
  },
  {
   "cell_type": "code",
   "execution_count": null,
   "id": "2565636a",
   "metadata": {},
   "outputs": [],
   "source": [
    "my_schema = pa.schema([pa.field('id_min', pa.int64()),\n",
    "                       pa.field('id_max', pa.int64()),\n",
    "                       pa.field('sequence', pa.string())])\n",
    "\n",
    "parquet_file.read_row_group(0).cast(target_schema=my_schema)"
   ]
  },
  {
   "cell_type": "markdown",
   "id": "37c594b3",
   "metadata": {},
   "source": [
    "###### Read a parquet file, using a group logic"
   ]
  },
  {
   "cell_type": "code",
   "execution_count": null,
   "id": "dc9c4324",
   "metadata": {},
   "outputs": [],
   "source": [
    "parquet_file = pq.ParquetFile('file_path.parquet')\n",
    "for i in range(parquet_file.metadata.num_row_groups):\n",
    "    df = parquet_file.read_row_group(i).to_pandas()"
   ]
  },
  {
   "cell_type": "code",
   "execution_count": null,
   "id": "df6db4e2",
   "metadata": {},
   "outputs": [],
   "source": []
  },
  {
   "cell_type": "code",
   "execution_count": null,
   "id": "0fafbd43",
   "metadata": {},
   "outputs": [],
   "source": []
  },
  {
   "cell_type": "markdown",
   "id": "16f7bf1e",
   "metadata": {},
   "source": [
    "## Time management"
   ]
  },
  {
   "cell_type": "code",
   "execution_count": null,
   "id": "35c3455a",
   "metadata": {},
   "outputs": [],
   "source": [
    "from datetime import datetime\n",
    "import pytz\n",
    "print(datetime.now(pytz.timezone('Europe/Paris')).strftime('%H:%M'))"
   ]
  },
  {
   "cell_type": "code",
   "execution_count": null,
   "id": "55b3747e",
   "metadata": {},
   "outputs": [],
   "source": [
    "import time\n",
    "start_time = time.perf_counter()\n",
    "print(f\"Duration: {time.perf_counter() - start_time:0.1f} sec\")"
   ]
  },
  {
   "cell_type": "code",
   "execution_count": null,
   "id": "1b71f61b",
   "metadata": {},
   "outputs": [],
   "source": [
    "#To be used as decorator. Track time and RAM\n",
    "import time\n",
    "import tracemalloc\n",
    "\n",
    "def simple_time_and_memory_tracker(method):\n",
    "    # ### Log Level\n",
    "    # 0: Nothing\n",
    "    # 1: Print Time and Memory usage of functions\n",
    "    LOG_LEVEL = 1\n",
    "    def method_with_trackers(*args, **kw):\n",
    "        ts = time.time()\n",
    "        tracemalloc.start()\n",
    "        result = method(*args, **kw)\n",
    "        _, peak = tracemalloc.get_traced_memory()\n",
    "        tracemalloc.stop()\n",
    "        te = time.time()\n",
    "        duration = te - ts\n",
    "        if LOG_LEVEL > 0:\n",
    "            print(\"{:<20} {:<15} {:<15}\".format(f\"\\033[1m{method.__qualname__}\", f\"\\033[0m{round(duration, 2)} sec\", f\"{round(peak / 1024**2,2)} RAM MB\"))\n",
    "        return result\n",
    "    return method_with_trackers"
   ]
  },
  {
   "cell_type": "markdown",
   "id": "0269317d",
   "metadata": {},
   "source": [
    "## Print with color"
   ]
  },
  {
   "cell_type": "code",
   "execution_count": null,
   "id": "bc0e218e",
   "metadata": {},
   "outputs": [],
   "source": [
    "# Write in blue\n",
    "print(\"\\033[94m{} {}\\033[0m\".format(\"word 1\", \"word 2\"))\n",
    "\n",
    "# Write in bold\n",
    "print(\"\\033[1m{}\\033[0m {}\".format(\"word 1\", \"word 2\"))"
   ]
  },
  {
   "cell_type": "code",
   "execution_count": null,
   "id": "b50c6093",
   "metadata": {},
   "outputs": [],
   "source": []
  }
 ],
 "metadata": {
  "kernelspec": {
   "display_name": "Python 3 (ipykernel)",
   "language": "python",
   "name": "python3"
  },
  "language_info": {
   "codemirror_mode": {
    "name": "ipython",
    "version": 3
   },
   "file_extension": ".py",
   "mimetype": "text/x-python",
   "name": "python",
   "nbconvert_exporter": "python",
   "pygments_lexer": "ipython3",
   "version": "3.10.6"
  },
  "toc": {
   "base_numbering": 1,
   "nav_menu": {},
   "number_sections": true,
   "sideBar": true,
   "skip_h1_title": false,
   "title_cell": "Table of Contents",
   "title_sidebar": "Contents",
   "toc_cell": false,
   "toc_position": {},
   "toc_section_display": true,
   "toc_window_display": false
  }
 },
 "nbformat": 4,
 "nbformat_minor": 5
}
